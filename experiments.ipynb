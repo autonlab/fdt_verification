{
 "cells": [
  {
   "cell_type": "code",
   "execution_count": 1,
   "id": "278293de",
   "metadata": {},
   "outputs": [],
   "source": [
    "import numpy as np\n",
    "import cvxpy as cp\n",
    "import pickle\n",
    "import matplotlib.pyplot as plt\n",
    "import fdt_verification\n",
    "from fdt_verification import *\n",
    "from fdt_verification_z3 import *\n",
    "from util import *"
   ]
  },
  {
   "cell_type": "markdown",
   "id": "69ad44fd-ce4f-45ea-90d2-73adcf8d6cdb",
   "metadata": {},
   "source": [
    "### Settings\n",
    "- using more than the number of available cores will interfere with experiment timing\n",
    "- timeout is in seconds for a single minimum adversarial perturbation or global robustness test"
   ]
  },
  {
   "cell_type": "code",
   "execution_count": 2,
   "id": "804ee339-1ae7-49da-9d79-85b5bb2cc88a",
   "metadata": {},
   "outputs": [],
   "source": [
    "# using more workers than can be run concurrently will interfere with experiment timing\n",
    "n_workers = 20\n",
    "# timeout in seconds for single minimum adversrial perturbation or global robustness test\n",
    "timeout = 3600\n",
    "# shorter timeout for the toy dataset comparison with Z3\n",
    "timeout_toy = 300\n",
    "# tolerance for minimum adversarial perturbation tests\n",
    "tol = 1e-3"
   ]
  },
  {
   "cell_type": "code",
   "execution_count": 3,
   "id": "99e2f0c4-2ef8-4ca3-ab5e-36034302466d",
   "metadata": {},
   "outputs": [],
   "source": [
    "# list of dataset names from OpenML\n",
    "dataset_names = [\"banknote-authentication\", \"shuttle\", \"MagicTelescope\", \\\n",
    "                \"JapaneseVowels\", \"wall-robot-navigation\", \"helena\", \"satimage\", \\\n",
    "                 \"texture\", \"hill-valley\", \"sylva_agnostic\"]"
   ]
  },
  {
   "cell_type": "markdown",
   "id": "229a3d60-4d06-42c2-92f4-13175dd42693",
   "metadata": {},
   "source": [
    "### Check solvers and choose one"
   ]
  },
  {
   "cell_type": "code",
   "execution_count": 4,
   "id": "05bf8417-69c3-483a-8413-684621562274",
   "metadata": {},
   "outputs": [
    {
     "name": "stdout",
     "output_type": "stream",
     "text": [
      "['CVXOPT', 'ECOS', 'ECOS_BB', 'GLPK', 'GLPK_MI', 'GUROBI', 'OSQP', 'SCS']\n"
     ]
    }
   ],
   "source": [
    "print(cp.installed_solvers())\n",
    "fdt_verification.solver = cp.ECOS"
   ]
  },
  {
   "cell_type": "markdown",
   "id": "be2f2783",
   "metadata": {},
   "source": [
    "# Comparison to Z3"
   ]
  },
  {
   "cell_type": "code",
   "execution_count": null,
   "id": "b5667c55",
   "metadata": {
    "tags": []
   },
   "outputs": [],
   "source": [
    "f = load_model(\"moons-linear-split\")\n",
    "x, y = load_robustness_test_points(\"moons1000\")\n",
    "perturbation, dist, exact, times = minimum_adversarial_perturbation_z3(f, x, tol, n_workers=n_workers, timeout=timeout_toy)\n",
    "pickle.dump((perturbation, dist, exact, times), open(\"results/map_moons_z3.pkl\", \"wb\"))\n",
    "perturbation, dist, exact, times = minimum_adversarial_perturbation(f, x, tol, n_workers=n_workers, timeout=timeout_toy)\n",
    "pickle.dump((perturbation, dist, exact, times), open(\"results/map_moons.pkl\", \"wb\"))"
   ]
  },
  {
   "cell_type": "code",
   "execution_count": 5,
   "id": "ce4b3c0a",
   "metadata": {
    "tags": []
   },
   "outputs": [],
   "source": [
    "perturbation, dist, exact, times = pickle.load(open(\"results/map_moons_z3.pkl\", \"rb\"))\n",
    "myperturbation, mydist, myexact, mytimes = pickle.load(open(\"results/map_moons.pkl\", \"rb\"))\n",
    "# sometimes the actual time taken is a little higher than the timeout\n",
    "# we don't want to overcount those cases in the results\n",
    "exact[times > timeout_toy] = False\n",
    "times[times > timeout_toy] = timeout_toy\n",
    "myexact[mytimes > timeout_toy] = False\n",
    "mytimes[mytimes > timeout_toy] = timeout_toy"
   ]
  },
  {
   "cell_type": "code",
   "execution_count": 6,
   "id": "2879d08f",
   "metadata": {
    "tags": []
   },
   "outputs": [
    {
     "data": {
      "text/plain": [
       "(954, 1000)"
      ]
     },
     "execution_count": 6,
     "metadata": {},
     "output_type": "execute_result"
    }
   ],
   "source": [
    "# check how many of the 1000 points have a result within tolerance\n",
    "# ours should only be outside tolerance if it times out or the solver fails\n",
    "sum(exact), sum(myexact)"
   ]
  },
  {
   "cell_type": "code",
   "execution_count": 7,
   "id": "85f64e47-162e-4f35-9384-ec7cb167dcd5",
   "metadata": {},
   "outputs": [
    {
     "data": {
      "text/plain": [
       "(46, 0)"
      ]
     },
     "execution_count": 7,
     "metadata": {},
     "output_type": "execute_result"
    }
   ],
   "source": [
    "# how many cases timed out\n",
    "sum(times == timeout_toy), sum(mytimes == timeout_toy)"
   ]
  },
  {
   "cell_type": "code",
   "execution_count": 8,
   "id": "ecd722da",
   "metadata": {
    "tags": []
   },
   "outputs": [
    {
     "data": {
      "text/plain": [
       "(18.739948163032533,\n",
       " 62.2271082291507,\n",
       " array([  0.55059671,   1.23470527,   2.27897656,   5.07770121,\n",
       "        300.        ]))"
      ]
     },
     "execution_count": 8,
     "metadata": {},
     "output_type": "execute_result"
    }
   ],
   "source": [
    "# distribution of z3 times\n",
    "np.mean(times), np.std(times), np.quantile(times, [0, 0.25, 0.5, 0.75, 1])"
   ]
  },
  {
   "cell_type": "code",
   "execution_count": 9,
   "id": "d1783114",
   "metadata": {
    "tags": []
   },
   "outputs": [
    {
     "data": {
      "text/plain": [
       "(3.1257268953323365,\n",
       " 2.5438731897611224,\n",
       " array([ 0.46915054,  1.4485808 ,  2.21546948,  3.87612015, 11.97854567]))"
      ]
     },
     "execution_count": 9,
     "metadata": {},
     "output_type": "execute_result"
    }
   ],
   "source": [
    "# distribution of our times\n",
    "np.mean(mytimes), np.std(mytimes), np.quantile(mytimes, [0, 0.25, 0.5, 0.75, 1])"
   ]
  },
  {
   "cell_type": "markdown",
   "id": "92ad49bd",
   "metadata": {},
   "source": [
    "# Minimum adversarial perturbations on OpenML datasets"
   ]
  },
  {
   "cell_type": "code",
   "execution_count": 10,
   "id": "21b4b493-389b-4236-a6c1-c212158ba5b6",
   "metadata": {},
   "outputs": [
    {
     "name": "stdout",
     "output_type": "stream",
     "text": [
      "Restricted license - for non-production use only - expires 2022-01-13\n"
     ]
    },
    {
     "data": {
      "text/plain": [
       "inf"
      ]
     },
     "execution_count": 10,
     "metadata": {},
     "output_type": "execute_result"
    }
   ],
   "source": [
    "# switch to Gurobi since it is more robust on the harder datasets\n",
    "fdt_verification.solver = cp.GUROBI\n",
    "# load the license so we don't get spammed with the notification in spawned processes\n",
    "prob = cp.Problem(cp.Maximize(cp.Variable()), [])\n",
    "prob.solve(solver=fdt_verification.solver)"
   ]
  },
  {
   "cell_type": "code",
   "execution_count": null,
   "id": "642d36d4",
   "metadata": {},
   "outputs": [],
   "source": [
    "for name in dataset_names:\n",
    "    f = load_model(name)\n",
    "    x, y = load_robustness_test_points(name)\n",
    "    perturbation, dist, exact, times = minimum_adversarial_perturbation(f, x, tol, n_workers=n_workers, timeout=timeout)\n",
    "    pickle.dump((perturbation, dist, exact, times), open(\"results/map_\" + name + \".pkl\", \"wb\"))\n",
    "    print(name)"
   ]
  },
  {
   "cell_type": "code",
   "execution_count": 11,
   "id": "0127ddf2",
   "metadata": {
    "tags": []
   },
   "outputs": [
    {
     "name": "stdout",
     "output_type": "stream",
     "text": [
      "banknote-authentication\n",
      "100 100\n",
      "20.714769990444182 21.217445057533634\n",
      "['1.26', '8.94', '14.03', '25.34', '154.74']\n",
      "\n",
      "shuttle\n",
      "100 100\n",
      "4.647094812393188 2.2566391480846493\n",
      "['1.88', '3.20', '4.09', '5.68', '17.49']\n",
      "\n",
      "MagicTelescope\n",
      "98 98\n",
      "256.3358147883415 573.5990775710177\n",
      "['1.79', '25.83', '54.30', '221.65', '3600.00']\n",
      "\n",
      "JapaneseVowels\n",
      "100 100\n",
      "186.28002146959304 461.08927705158857\n",
      "['7.18', '18.23', '33.87', '106.38', '2773.63']\n",
      "\n",
      "wall-robot-navigation\n",
      "100 100\n",
      "12.39833481311798 16.484363684574355\n",
      "['0.55', '4.28', '8.20', '12.31', '129.75']\n",
      "\n",
      "helena\n",
      "100 100\n",
      "112.59071455955505 92.75553412260393\n",
      "['4.90', '66.48', '90.08', '134.73', '834.66']\n",
      "\n",
      "satimage\n",
      "96 96\n",
      "224.07645862817765 698.4805392977921\n",
      "['3.07', '16.36', '31.72', '144.46', '3600.00']\n",
      "\n",
      "texture\n",
      "98 98\n",
      "385.24353286266324 644.4163219272444\n",
      "['3.79', '84.04', '163.96', '361.53', '3600.00']\n",
      "\n",
      "hill-valley\n",
      "98 98\n",
      "175.0446508193016 534.0234007508448\n",
      "['2.17', '33.27', '46.64', '86.22', '3600.00']\n",
      "\n",
      "sylva_agnostic\n",
      "97 97\n",
      "256.7604673576355 633.2768699801135\n",
      "['6.86', '37.93', '61.27', '154.37', '3600.00']\n",
      "\n"
     ]
    },
    {
     "data": {
      "image/png": "[encoded data removed]",
      "text/plain": [
       "<Figure size 720x432 with 1 Axes>"
      ]
     },
     "metadata": {
      "needs_background": "light"
     },
     "output_type": "display_data"
    }
   ],
   "source": [
    "timeses = []\n",
    "for name in dataset_names:\n",
    "    perturbation, dist, exact, times = pickle.load(open(\"results/map_\" + name + \".pkl\", \"rb\"))\n",
    "    exact[times > timeout] = False\n",
    "    times[times > timeout] = timeout\n",
    "    timeses.append(times)\n",
    "    print(name)\n",
    "    print(np.sum(exact), np.sum(times < timeout))\n",
    "    print(np.mean(times), np.std(times))\n",
    "    print([\"%.2f\"%t for t in np.quantile(times, [0, 0.25, 0.5, 0.75, 1])])\n",
    "    print(\"\")\n",
    "plt.figure(figsize=(10,6))\n",
    "order = np.argsort([-np.quantile(timeses, [0.5], axis=1)]).flatten()\n",
    "plt.boxplot(np.array(timeses)[order].T, vert=False)\n",
    "plt.yticks(np.arange(len(dataset_names))+1, labels=np.array(dataset_names)[order])\n",
    "plt.xlabel(\"time (s)\")\n",
    "plt.xscale(\"log\")\n",
    "plt.show()"
   ]
  },
  {
   "cell_type": "code",
   "execution_count": 12,
   "id": "0cfef91c-3816-4bc1-aab1-8a7b90ab6d04",
   "metadata": {},
   "outputs": [
    {
     "name": "stdout",
     "output_type": "stream",
     "text": [
      "banknote-authentication (7, 39)\n",
      "shuttle (5, 13)\n",
      "MagicTelescope (8, 57)\n",
      "JapaneseVowels (13, 251)\n",
      "wall-robot-navigation (9, 33)\n",
      "helena (8, 49)\n",
      "satimage (12, 107)\n",
      "texture (15, 163)\n",
      "hill-valley (60, 305)\n",
      "sylva_agnostic (8, 25)\n"
     ]
    }
   ],
   "source": [
    "for name in dataset_names:\n",
    "    f = load_model(name)\n",
    "    print(name, f.size())"
   ]
  },
  {
   "cell_type": "markdown",
   "id": "cc972def",
   "metadata": {},
   "source": [
    "# Global Robustness"
   ]
  },
  {
   "cell_type": "code",
   "execution_count": null,
   "id": "94fd3a48",
   "metadata": {},
   "outputs": [],
   "source": [
    "delta = [1e-3, 1e-2, 1e-1, 1e0]\n",
    "epsilon = [0.2, 0.4, 0.6, 0.8]\n",
    "for name in dataset_names:\n",
    "    f = load_model(name)\n",
    "    results = global_robustness(f, delta, epsilon, timeout=timeout)\n",
    "    pickle.dump(results, open(\"results/gab_\" + name + \".pkl\", \"wb\"))\n",
    "    print(name)"
   ]
  },
  {
   "cell_type": "code",
   "execution_count": 13,
   "id": "ecc3d04a",
   "metadata": {},
   "outputs": [
    {
     "name": "stdout",
     "output_type": "stream",
     "text": [
      "banknote-authentication\n",
      "(0.001, 0.2, None) 3603\n",
      "(0.001, 0.4, True) 1023\n",
      "(0.001, 0.6, True) 202\n",
      "(0.001, 0.8, True) 57\n",
      "(0.01, 0.2, None) 3603\n",
      "(0.01, 0.4, True) 1253\n",
      "(0.01, 0.6, True) 229\n",
      "(0.01, 0.8, True) 57\n",
      "(0.1, 0.2, None) 3602\n",
      "(0.1, 0.4, None) 3603\n",
      "(0.1, 0.6, True) 1718\n",
      "(0.1, 0.8, True) 156\n",
      "(1.0, 0.2, False) 12\n",
      "(1.0, 0.4, False) 12\n",
      "(1.0, 0.6, False) 12\n",
      "(1.0, 0.8, False) 40\n",
      "\n",
      "shuttle\n",
      "(0.001, 0.2, True) 1858\n",
      "(0.001, 0.4, True) 50\n",
      "(0.001, 0.6, True) 10\n",
      "(0.001, 0.8, True) 5\n",
      "(0.01, 0.2, False) 12\n",
      "(0.01, 0.4, False) 170\n",
      "(0.01, 0.6, True) 174\n",
      "(0.01, 0.8, True) 13\n",
      "(0.1, 0.2, False) 4\n",
      "(0.1, 0.4, False) 4\n",
      "(0.1, 0.6, False) 6\n",
      "(0.1, 0.8, False) 10\n",
      "(1.0, 0.2, False) 5\n",
      "(1.0, 0.4, False) 7\n",
      "(1.0, 0.6, False) 14\n",
      "(1.0, 0.8, False) 24\n",
      "\n",
      "MagicTelescope\n",
      "(0.001, 0.2, None) 3601\n",
      "(0.001, 0.4, None) 3601\n",
      "(0.001, 0.6, True) 3055\n",
      "(0.001, 0.8, True) 22\n",
      "(0.01, 0.2, None) 3602\n",
      "(0.01, 0.4, None) 3601\n",
      "(0.01, 0.6, None) 6280\n",
      "(0.01, 0.8, True) 26\n",
      "(0.1, 0.2, None) 3602\n",
      "(0.1, 0.4, None) 3602\n",
      "(0.1, 0.6, None) 3602\n",
      "(0.1, 0.8, True) 2340\n",
      "(1.0, 0.2, False) 135\n",
      "(1.0, 0.4, False) 163\n",
      "(1.0, 0.6, False) 290\n",
      "(1.0, 0.8, False) 539\n",
      "\n",
      "JapaneseVowels\n",
      "(0.001, 0.2, None) 3603\n",
      "(0.001, 0.4, None) 3601\n",
      "(0.001, 0.6, None) 4675\n",
      "(0.001, 0.8, True) 1730\n",
      "(0.01, 0.2, None) 3601\n",
      "(0.01, 0.4, None) 3601\n",
      "(0.01, 0.6, None) 3602\n",
      "(0.01, 0.8, None) 7128\n",
      "(0.1, 0.2, False) 182\n",
      "(0.1, 0.4, False) 213\n",
      "(0.1, 0.6, False) 274\n",
      "(0.1, 0.8, False) 357\n",
      "(1.0, 0.2, False) 181\n",
      "(1.0, 0.4, False) 217\n",
      "(1.0, 0.6, False) 273\n",
      "(1.0, 0.8, False) 348\n",
      "\n",
      "wall-robot-navigation\n",
      "(0.001, 0.2, None) 3601\n",
      "(0.001, 0.4, None) 3601\n",
      "(0.001, 0.6, None) 3602\n",
      "(0.001, 0.8, True) 585\n",
      "(0.01, 0.2, None) 3602\n",
      "(0.01, 0.4, None) 3602\n",
      "(0.01, 0.6, None) 3602\n",
      "(0.01, 0.8, None) 3602\n",
      "(0.1, 0.2, None) 3602\n",
      "(0.1, 0.4, None) 3602\n",
      "(0.1, 0.6, None) 3602\n",
      "(0.1, 0.8, None) 3602\n",
      "(1.0, 0.2, False) 410\n",
      "(1.0, 0.4, False) 410\n",
      "(1.0, 0.6, False) 427\n",
      "(1.0, 0.8, False) 457\n",
      "\n",
      "helena\n",
      "(0.001, 0.2, True) 85\n",
      "(0.001, 0.4, True) 68\n",
      "(0.001, 0.6, True) 68\n",
      "(0.001, 0.8, True) 68\n",
      "(0.01, 0.2, False) 71\n",
      "(0.01, 0.4, True) 67\n",
      "(0.01, 0.6, True) 67\n",
      "(0.01, 0.8, True) 70\n",
      "(0.1, 0.2, False) 69\n",
      "(0.1, 0.4, True) 67\n",
      "(0.1, 0.6, True) 66\n",
      "(0.1, 0.8, True) 66\n",
      "(1.0, 0.2, False) 69\n",
      "(1.0, 0.4, True) 66\n",
      "(1.0, 0.6, True) 67\n",
      "(1.0, 0.8, True) 67\n",
      "\n",
      "satimage\n",
      "(0.001, 0.2, None) 3603\n",
      "(0.001, 0.4, None) 3603\n",
      "(0.001, 0.6, None) 5124\n",
      "(0.001, 0.8, True) 350\n",
      "(0.01, 0.2, None) 3601\n",
      "(0.01, 0.4, None) 3604\n",
      "(0.01, 0.6, None) 3601\n",
      "(0.01, 0.8, True) 550\n",
      "(0.1, 0.2, False) 570\n",
      "(0.1, 0.4, False) 2905\n",
      "(0.1, 0.6, None) 3603\n",
      "(0.1, 0.8, None) 3601\n",
      "(1.0, 0.2, False) 155\n",
      "(1.0, 0.4, False) 180\n",
      "(1.0, 0.6, False) 264\n",
      "(1.0, 0.8, False) 391\n",
      "\n",
      "texture\n",
      "(0.001, 0.2, None) 3606\n",
      "(0.001, 0.4, None) 3601\n",
      "(0.001, 0.6, None) 6499\n",
      "(0.001, 0.8, True) 1029\n",
      "(0.01, 0.2, None) 3605\n",
      "(0.01, 0.4, None) 3603\n",
      "(0.01, 0.6, None) 3606\n",
      "(0.01, 0.8, True) 1379\n",
      "(0.1, 0.2, None) 3603\n",
      "(0.1, 0.4, None) 3602\n",
      "(0.1, 0.6, None) 3602\n",
      "(0.1, 0.8, None) 3604\n",
      "(1.0, 0.2, False) 302\n",
      "(1.0, 0.4, False) 366\n",
      "(1.0, 0.6, False) 454\n",
      "(1.0, 0.8, False) 553\n",
      "\n",
      "hill-valley\n",
      "(0.001, 0.2, None) 3618\n",
      "(0.001, 0.4, None) 3618\n",
      "(0.001, 0.6, None) 3606\n",
      "(0.001, 0.8, None) 3698\n",
      "(0.01, 0.2, None) 3611\n",
      "(0.01, 0.4, None) 3618\n",
      "(0.01, 0.6, None) 3609\n",
      "(0.01, 0.8, None) 3605\n",
      "(0.1, 0.2, None) 3604\n",
      "(0.1, 0.4, None) 3604\n",
      "(0.1, 0.6, None) 3621\n",
      "(0.1, 0.8, None) 3618\n",
      "(1.0, 0.2, False) 1161\n",
      "(1.0, 0.4, False) 1609\n",
      "(1.0, 0.6, False) 2162\n",
      "(1.0, 0.8, False) 3046\n",
      "\n",
      "sylva_agnostic\n",
      "(0.001, 0.2, None) 3604\n",
      "(0.001, 0.4, None) 3604\n",
      "(0.001, 0.6, True) 909\n",
      "(0.001, 0.8, True) 56\n",
      "(0.01, 0.2, None) 3602\n",
      "(0.01, 0.4, None) 3604\n",
      "(0.01, 0.6, True) 1492\n",
      "(0.01, 0.8, True) 45\n",
      "(0.1, 0.2, False) 202\n",
      "(0.1, 0.4, False) 852\n",
      "(0.1, 0.6, None) 3604\n",
      "(0.1, 0.8, None) 3601\n",
      "(1.0, 0.2, False) 193\n",
      "(1.0, 0.4, False) 253\n",
      "(1.0, 0.6, False) 419\n",
      "(1.0, 0.8, False) 765\n",
      "\n"
     ]
    }
   ],
   "source": [
    "for name in dataset_names:\n",
    "    results = pickle.load(open(\"results/gab_\" + name + \".pkl\", \"rb\"))\n",
    "    print(name)\n",
    "    for result in results:\n",
    "        print(result[:3], \"%.0f\"%result[-1])\n",
    "    print(\"\")"
   ]
  },
  {
   "cell_type": "code",
   "execution_count": null,
   "id": "d97c1d44-525f-446b-955d-56472803096a",
   "metadata": {},
   "outputs": [],
   "source": []
  }
 ],
 "metadata": {
  "kernelspec": {
   "display_name": "Python 3",
   "language": "python",
   "name": "python3"
  },
  "language_info": {
   "codemirror_mode": {
    "name": "ipython",
    "version": 3
   },
   "file_extension": ".py",
   "mimetype": "text/x-python",
   "name": "python",
   "nbconvert_exporter": "python",
   "pygments_lexer": "ipython3",
   "version": "3.9.5"
  }
 },
 "nbformat": 4,
 "nbformat_minor": 5
}
